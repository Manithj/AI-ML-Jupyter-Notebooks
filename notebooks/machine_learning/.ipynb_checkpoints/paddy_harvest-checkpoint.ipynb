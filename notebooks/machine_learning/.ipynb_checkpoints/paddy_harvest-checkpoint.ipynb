{
 "cells": [
  {
   "cell_type": "markdown",
   "metadata": {
    "id": "4jar_KbefgHj"
   },
   "source": [
    "## Data Description\n",
    "\n",
    "The dataset used in this analysis contains information related to paddy cultivation. Below is a description of the data:\n",
    "\n",
    "The dataset consists of the following columns:\n",
    "- `Temperature`: Average temperature (in Celsius).\n",
    "- `Avg rain(mm)`: Average rainfall (in millimeters).\n",
    "- `Fertilizer`: Amount of fertilizer used.\n",
    "- `RAINFED(Hect)`: Rainfed area (in hectares).\n",
    "- `RAINFED Yeild(Kg)`: Yield of rainfed paddy (in kilograms).\n"
   ]
  },
  {
   "cell_type": "code",
   "execution_count": null,
   "metadata": {
    "id": "Z8r4GjxCOUlx"
   },
   "outputs": [],
   "source": [
    "import pandas as pd\n",
    "import matplotlib.pyplot as plt\n",
    "from sklearn.model_selection import train_test_split\n",
    "from sklearn.linear_model import LinearRegression\n",
    "import numpy as np\n",
    "from sklearn.linear_model import LinearRegression\n",
    "from sklearn.metrics import mean_squared_error, r2_score"
   ]
  },
  {
   "cell_type": "markdown",
   "metadata": {
    "id": "9_HFWQZffgHn"
   },
   "source": [
    "#### Load data from an Excel sheet (adjust the file path) file path is in the data folder"
   ]
  },
  {
   "cell_type": "code",
   "execution_count": null,
   "metadata": {
    "id": "3Sug1VEzHmX7"
   },
   "outputs": [],
   "source": [
    "data = pd.read_excel('paddy.xlsx')"
   ]
  },
  {
   "cell_type": "markdown",
   "metadata": {
    "id": "ezaK0KrTfgHo"
   },
   "source": [
    "#### Define the independent variables (features) and the dependent variable (target)"
   ]
  },
  {
   "cell_type": "code",
   "execution_count": null,
   "metadata": {
    "id": "jUuUVOB7H1rf"
   },
   "outputs": [],
   "source": [
    "X = data[['Temperature', 'Avg rain(mm)', 'Fertilizer ', 'RAINFED(Hect)']]\n",
    "y = data['RAINFED Yeild(Kg)']"
   ]
  },
  {
   "cell_type": "markdown",
   "metadata": {
    "id": "QtFEgqB1fgHp"
   },
   "source": [
    "#### Split the data into training and testing sets"
   ]
  },
  {
   "cell_type": "code",
   "execution_count": null,
   "metadata": {
    "id": "PHRy1VUYIepV"
   },
   "outputs": [],
   "source": [
    "X_train, X_test, y_train, y_test = train_test_split(X, y, test_size=0.2, random_state=42)\n"
   ]
  },
  {
   "cell_type": "markdown",
   "metadata": {
    "id": "pd-u6QEqfgHq"
   },
   "source": [
    "#### Create and train the linear regression model"
   ]
  },
  {
   "cell_type": "code",
   "execution_count": null,
   "metadata": {
    "colab": {
     "base_uri": "https://localhost:8080/",
     "height": 75
    },
    "id": "UybRqKatIpgK",
    "outputId": "c548807e-5cb7-4f0c-d78c-408517d1e962"
   },
   "outputs": [
    {
     "data": {
      "text/plain": [
       "LinearRegression()"
      ]
     },
     "execution_count": 5,
     "metadata": {},
     "output_type": "execute_result"
    }
   ],
   "source": [
    "model = LinearRegression()\n",
    "model.fit(X_train, y_train)"
   ]
  },
  {
   "cell_type": "markdown",
   "metadata": {
    "id": "iFYFyC_5fn3b"
   },
   "source": [
    "#### Use the trained model to make predictions"
   ]
  },
  {
   "cell_type": "code",
   "execution_count": null,
   "metadata": {
    "id": "gVWGYyyCMM1z"
   },
   "outputs": [],
   "source": [
    "predictions = model.predict(X_test)"
   ]
  },
  {
   "cell_type": "markdown",
   "metadata": {
    "id": "MrCkVVmQfvtG"
   },
   "source": [
    "#### Print the model's coefficients and intercept"
   ]
  },
  {
   "cell_type": "code",
   "execution_count": null,
   "metadata": {
    "colab": {
     "base_uri": "https://localhost:8080/"
    },
    "id": "UFXq_Bi8MRl5",
    "outputId": "39983a17-cbf9-48c6-eefd-0a5bd2699e18"
   },
   "outputs": [
    {
     "name": "stdout",
     "output_type": "stream",
     "text": [
      "Coefficients: [-1.17361588e+02  2.62442795e+00  5.39719178e-02 -2.09136339e-02]\n",
      "Intercept: 5483.521027751586\n"
     ]
    }
   ],
   "source": [
    "print(\"Coefficients:\", model.coef_)\n",
    "print(\"Intercept:\", model.intercept_)"
   ]
  },
  {
   "cell_type": "markdown",
   "metadata": {
    "id": "8LIc9iGSf3U9"
   },
   "source": [
    "#### Fit the model to the training data"
   ]
  },
  {
   "cell_type": "code",
   "execution_count": null,
   "metadata": {
    "colab": {
     "base_uri": "https://localhost:8080/",
     "height": 75
    },
    "id": "d49PUGJmN6rO",
    "outputId": "19212bc4-fca0-40ca-e87f-62e9ebc1645d"
   },
   "outputs": [
    {
     "data": {
      "text/plain": [
       "LinearRegression()"
      ]
     },
     "execution_count": 8,
     "metadata": {},
     "output_type": "execute_result"
    }
   ],
   "source": [
    "model.fit(X_train, y_train)"
   ]
  },
  {
   "cell_type": "markdown",
   "metadata": {
    "id": "jXp3wfsGf8rA"
   },
   "source": [
    "#### Make predictions on the test data"
   ]
  },
  {
   "cell_type": "code",
   "execution_count": null,
   "metadata": {
    "id": "QsVgkflkN9FH"
   },
   "outputs": [],
   "source": [
    "y_pred = model.predict(X_test)"
   ]
  },
  {
   "cell_type": "markdown",
   "metadata": {
    "id": "NMEotY7kgBa_"
   },
   "source": [
    "#### Evaluate the model"
   ]
  },
  {
   "cell_type": "code",
   "execution_count": null,
   "metadata": {
    "id": "5oWZhxgOOAm0"
   },
   "outputs": [],
   "source": [
    "mse = mean_squared_error(y_test, y_pred)\n",
    "r2 = r2_score(y_test, y_pred)"
   ]
  },
  {
   "cell_type": "code",
   "execution_count": null,
   "metadata": {
    "colab": {
     "base_uri": "https://localhost:8080/"
    },
    "id": "NRftqW0MOtnA",
    "outputId": "31ad76ee-8af7-447c-bfe4-4aebf240ee8e"
   },
   "outputs": [
    {
     "name": "stdout",
     "output_type": "stream",
     "text": [
      "Mean Squared Error: 1318883.1489845559\n",
      "R-squared: 0.2244992057784787\n"
     ]
    }
   ],
   "source": [
    "print(\"Mean Squared Error:\", mse)\n",
    "print(\"R-squared:\", r2)"
   ]
  },
  {
   "cell_type": "markdown",
   "metadata": {
    "id": "aksT7tFwgIFH"
   },
   "source": [
    "#### Predict paddy yield for a new set of input features"
   ]
  },
  {
   "cell_type": "code",
   "execution_count": null,
   "metadata": {
    "colab": {
     "base_uri": "https://localhost:8080/"
    },
    "id": "St4aiHqHOyQg",
    "outputId": "b6ab7c3a-a1bb-4133-8ac2-ad7fd793d4f9"
   },
   "outputs": [
    {
     "name": "stdout",
     "output_type": "stream",
     "text": [
      "Predicted Paddy Yield: 3655.265733565367\n"
     ]
    }
   ],
   "source": [
    "new_data = np.array([[30.3, 42.4,30569.661, 1596]])  # Replace with your own values\n",
    "predicted_yield = model.predict(new_data)\n",
    "\n",
    "print(\"Predicted Paddy Yield:\", predicted_yield[0])"
   ]
  },
  {
   "cell_type": "markdown",
   "metadata": {
    "id": "j7l-JFDrgS5H"
   },
   "source": [
    "#### Create a scatter plot"
   ]
  },
  {
   "cell_type": "code",
   "execution_count": null,
   "metadata": {
    "id": "DXir8B8_fgHx",
    "outputId": "1f1488b2-df63-487f-df2d-8cd67b4ba5c4"
   },
   "outputs": [],
   "source": [
    "plt.figure(figsize=(8, 6))\n",
    "plt.scatter(data['Temperature'], data['RAINFED Yeild(Kg)'], alpha=0.5)\n",
    "plt.title('Scatter Plot of Temperature vs. RAINFED Yeild(Kg)')\n",
    "plt.xlabel('Temperature (°C)')\n",
    "plt.ylabel('RAINFED Yeild(Kg)')\n",
    "plt.grid(True)\n",
    "plt.show()"
   ]
  }
 ],
 "metadata": {
  "colab": {
   "provenance": []
  },
  "kernelspec": {
   "display_name": "Python 3 (ipykernel)",
   "language": "python",
   "name": "python3"
  },
  "language_info": {
   "codemirror_mode": {
    "name": "ipython",
    "version": 3
   },
   "file_extension": ".py",
   "mimetype": "text/x-python",
   "name": "python",
   "nbconvert_exporter": "python",
   "pygments_lexer": "ipython3",
   "version": "3.9.7"
  }
 },
 "nbformat": 4,
 "nbformat_minor": 1
}
